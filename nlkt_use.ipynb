{
  "nbformat": 4,
  "nbformat_minor": 0,
  "metadata": {
    "colab": {
      "name": "nlkt-use.ipynb",
      "provenance": [],
      "authorship_tag": "ABX9TyNe73ieWafgxwr8/fec/Cvn",
      "include_colab_link": true
    },
    "kernelspec": {
      "name": "python3",
      "display_name": "Python 3"
    },
    "language_info": {
      "name": "python"
    }
  },
  "cells": [
    {
      "cell_type": "markdown",
      "metadata": {
        "id": "view-in-github",
        "colab_type": "text"
      },
      "source": [
        "<a href=\"https://colab.research.google.com/github/daniel692a/nlp-semillero/blob/main/nlkt_use.ipynb\" target=\"_parent\"><img src=\"https://colab.research.google.com/assets/colab-badge.svg\" alt=\"Open In Colab\"/></a>"
      ]
    },
    {
      "cell_type": "markdown",
      "metadata": {
        "id": "NgzBiinHVKWt"
      },
      "source": [
        "# Tokenization"
      ]
    },
    {
      "cell_type": "code",
      "metadata": {
        "colab": {
          "base_uri": "https://localhost:8080/"
        },
        "id": "FIAMVweRXWSb",
        "outputId": "210de9d7-882b-42d9-f319-1242f7379f8e"
      },
      "source": [
        "import nltk\n",
        "nltk.download('punkt')\n",
        "nltk.download('wordnet')\n",
        "nltk.download('averaged_perceptron_tagger')"
      ],
      "execution_count": 33,
      "outputs": [
        {
          "output_type": "stream",
          "name": "stdout",
          "text": [
            "[nltk_data] Downloading package punkt to /root/nltk_data...\n",
            "[nltk_data]   Package punkt is already up-to-date!\n",
            "[nltk_data] Downloading package wordnet to /root/nltk_data...\n",
            "[nltk_data]   Package wordnet is already up-to-date!\n",
            "[nltk_data] Downloading package averaged_perceptron_tagger to\n",
            "[nltk_data]     /root/nltk_data...\n",
            "[nltk_data]   Unzipping taggers/averaged_perceptron_tagger.zip.\n"
          ]
        },
        {
          "output_type": "execute_result",
          "data": {
            "text/plain": [
              "True"
            ]
          },
          "metadata": {},
          "execution_count": 33
        }
      ]
    },
    {
      "cell_type": "code",
      "metadata": {
        "id": "0XWxXtkwW9GK"
      },
      "source": [
        "from nltk.tokenize import sent_tokenize, word_tokenize"
      ],
      "execution_count": 13,
      "outputs": []
    },
    {
      "cell_type": "code",
      "metadata": {
        "colab": {
          "base_uri": "https://localhost:8080/"
        },
        "id": "IyljG02TT8w7",
        "outputId": "4ac5d82d-df36-4ecb-9271-c973dd550bbe"
      },
      "source": [
        "msg = \"Hello John, How are you doing ? I will be travelling to your city. Lets chatchup\"\n",
        "\n",
        "sent_tokenize(msg)"
      ],
      "execution_count": 12,
      "outputs": [
        {
          "output_type": "execute_result",
          "data": {
            "text/plain": [
              "['Hello John, How are you doing ?',\n",
              " 'I will be travelling to your city.',\n",
              " 'Lets chatchup']"
            ]
          },
          "metadata": {},
          "execution_count": 12
        }
      ]
    },
    {
      "cell_type": "code",
      "metadata": {
        "colab": {
          "base_uri": "https://localhost:8080/"
        },
        "id": "3z-K7_A8WnHT",
        "outputId": "1cbcbc5b-a59c-4953-f8c7-e9301b6445df"
      },
      "source": [
        "word_tokenize(text)"
      ],
      "execution_count": 14,
      "outputs": [
        {
          "output_type": "execute_result",
          "data": {
            "text/plain": [
              "['Hello',\n",
              " 'John',\n",
              " ',',\n",
              " 'How',\n",
              " 'are',\n",
              " 'you',\n",
              " 'doing',\n",
              " '?',\n",
              " 'I',\n",
              " 'will',\n",
              " 'be',\n",
              " 'travelling',\n",
              " 'to',\n",
              " 'your',\n",
              " 'city',\n",
              " '.',\n",
              " 'Lets',\n",
              " 'chatchup']"
            ]
          },
          "metadata": {},
          "execution_count": 14
        }
      ]
    },
    {
      "cell_type": "markdown",
      "metadata": {
        "id": "uu5-7_H4X1mt"
      },
      "source": [
        "# Stemming"
      ]
    },
    {
      "cell_type": "code",
      "metadata": {
        "id": "fcmgacDYXtAz"
      },
      "source": [
        "from nltk.stem import PorterStemmer"
      ],
      "execution_count": 15,
      "outputs": []
    },
    {
      "cell_type": "code",
      "metadata": {
        "id": "jHFPt7klYDtu"
      },
      "source": [
        "stemmer = PorterStemmer()"
      ],
      "execution_count": 16,
      "outputs": []
    },
    {
      "cell_type": "code",
      "metadata": {
        "colab": {
          "base_uri": "https://localhost:8080/"
        },
        "id": "3_VjRv6yYIuc",
        "outputId": "fbf3dc23-f10e-4511-fbe9-23ab43cc1d9a"
      },
      "source": [
        "print(stemmer.stem('playing'))\n",
        "print(stemmer.stem(\"increases\"))\n",
        "print(stemmer.stem('Doing'))\n",
        "print(stemmer.stem('used'))"
      ],
      "execution_count": 25,
      "outputs": [
        {
          "output_type": "stream",
          "name": "stdout",
          "text": [
            "play\n",
            "increas\n",
            "do\n",
            "use\n"
          ]
        }
      ]
    },
    {
      "cell_type": "code",
      "metadata": {
        "id": "y2nTdm0EYoBU"
      },
      "source": [
        "from nltk.stem import WordNetLemmatizer"
      ],
      "execution_count": 23,
      "outputs": []
    },
    {
      "cell_type": "code",
      "metadata": {
        "id": "BdWHJdXMZK-p"
      },
      "source": [
        "lemm = WordNetLemmatizer()"
      ],
      "execution_count": 24,
      "outputs": []
    },
    {
      "cell_type": "code",
      "metadata": {
        "colab": {
          "base_uri": "https://localhost:8080/"
        },
        "id": "TeRhXk8-ZO14",
        "outputId": "8af07b91-33c1-4735-c83b-b8e889acd848"
      },
      "source": [
        "print(lemm.lemmatize(\"increases\"))\n",
        "print(lemm.lemmatize(\"running\", pos=\"v\"))"
      ],
      "execution_count": 30,
      "outputs": [
        {
          "output_type": "stream",
          "name": "stdout",
          "text": [
            "increase\n",
            "run\n"
          ]
        }
      ]
    },
    {
      "cell_type": "markdown",
      "metadata": {
        "id": "OFSmRyjbaLtk"
      },
      "source": [
        "# Part of Speech tag"
      ]
    },
    {
      "cell_type": "code",
      "metadata": {
        "id": "X_dGrS4ZZYjJ"
      },
      "source": [
        "from nltk import pos_tag"
      ],
      "execution_count": 31,
      "outputs": []
    },
    {
      "cell_type": "code",
      "metadata": {
        "colab": {
          "base_uri": "https://localhost:8080/"
        },
        "id": "FWY9vdBbaTq1",
        "outputId": "11546dfb-379a-4499-bd89-bdf0ceb7950d"
      },
      "source": [
        "tokens = word_tokenize(text)\n",
        "pos_tag(tokens)"
      ],
      "execution_count": 35,
      "outputs": [
        {
          "output_type": "execute_result",
          "data": {
            "text/plain": [
              "[('Hello', 'NNP'),\n",
              " ('John', 'NNP'),\n",
              " (',', ','),\n",
              " ('How', 'NNP'),\n",
              " ('are', 'VBP'),\n",
              " ('you', 'PRP'),\n",
              " ('doing', 'VBG'),\n",
              " ('?', '.'),\n",
              " ('I', 'PRP'),\n",
              " ('will', 'MD'),\n",
              " ('be', 'VB'),\n",
              " ('travelling', 'VBG'),\n",
              " ('to', 'TO'),\n",
              " ('your', 'PRP$'),\n",
              " ('city', 'NN'),\n",
              " ('.', '.'),\n",
              " ('Lets', 'VBZ'),\n",
              " ('chatchup', 'JJ')]"
            ]
          },
          "metadata": {},
          "execution_count": 35
        }
      ]
    },
    {
      "cell_type": "code",
      "metadata": {
        "id": "tGwupuUOag2F"
      },
      "source": [
        "from nltk.corpus import wordnet"
      ],
      "execution_count": 36,
      "outputs": []
    },
    {
      "cell_type": "code",
      "metadata": {
        "colab": {
          "base_uri": "https://localhost:8080/"
        },
        "id": "SHD9q2_Cdm3a",
        "outputId": "0a5d4dff-1700-4ca1-f51d-50f70c03a9a6"
      },
      "source": [
        "wordnet.synsets(\"good\")"
      ],
      "execution_count": 37,
      "outputs": [
        {
          "output_type": "execute_result",
          "data": {
            "text/plain": [
              "[Synset('good.n.01'),\n",
              " Synset('good.n.02'),\n",
              " Synset('good.n.03'),\n",
              " Synset('commodity.n.01'),\n",
              " Synset('good.a.01'),\n",
              " Synset('full.s.06'),\n",
              " Synset('good.a.03'),\n",
              " Synset('estimable.s.02'),\n",
              " Synset('beneficial.s.01'),\n",
              " Synset('good.s.06'),\n",
              " Synset('good.s.07'),\n",
              " Synset('adept.s.01'),\n",
              " Synset('good.s.09'),\n",
              " Synset('dear.s.02'),\n",
              " Synset('dependable.s.04'),\n",
              " Synset('good.s.12'),\n",
              " Synset('good.s.13'),\n",
              " Synset('effective.s.04'),\n",
              " Synset('good.s.15'),\n",
              " Synset('good.s.16'),\n",
              " Synset('good.s.17'),\n",
              " Synset('good.s.18'),\n",
              " Synset('good.s.19'),\n",
              " Synset('good.s.20'),\n",
              " Synset('good.s.21'),\n",
              " Synset('well.r.01'),\n",
              " Synset('thoroughly.r.02')]"
            ]
          },
          "metadata": {},
          "execution_count": 37
        }
      ]
    },
    {
      "cell_type": "code",
      "metadata": {
        "colab": {
          "base_uri": "https://localhost:8080/"
        },
        "id": "jHZ7fG2fdupz",
        "outputId": "6ff36fc0-a7b4-40c2-a432-2df7c6e23b1e"
      },
      "source": [
        "wordnet.synsets(\"computer\")"
      ],
      "execution_count": 38,
      "outputs": [
        {
          "output_type": "execute_result",
          "data": {
            "text/plain": [
              "[Synset('computer.n.01'), Synset('calculator.n.01')]"
            ]
          },
          "metadata": {},
          "execution_count": 38
        }
      ]
    },
    {
      "cell_type": "code",
      "metadata": {
        "id": "v-tOUi72d448"
      },
      "source": [
        "from nltk import ngrams"
      ],
      "execution_count": 39,
      "outputs": []
    },
    {
      "cell_type": "code",
      "metadata": {
        "id": "IORDj8gBeBML"
      },
      "source": [
        "sentence = \"I love to play soccer\""
      ],
      "execution_count": 40,
      "outputs": []
    },
    {
      "cell_type": "code",
      "metadata": {
        "colab": {
          "base_uri": "https://localhost:8080/"
        },
        "id": "XdyKMw-keEyE",
        "outputId": "5e8788d7-4f4a-4f2e-f5a4-91825cf3dea7"
      },
      "source": [
        "n =2\n",
        "for gram in ngrams(word_tokenize(sentence), n):\n",
        "    print(gram)"
      ],
      "execution_count": 43,
      "outputs": [
        {
          "output_type": "stream",
          "name": "stdout",
          "text": [
            "('I', 'love')\n",
            "('love', 'to')\n",
            "('to', 'play')\n",
            "('play', 'soccer')\n"
          ]
        }
      ]
    },
    {
      "cell_type": "code",
      "metadata": {
        "id": "7N3A-H5zeRcr"
      },
      "source": [
        ""
      ],
      "execution_count": null,
      "outputs": []
    }
  ]
}