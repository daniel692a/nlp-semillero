{
  "cells": [
    {
      "cell_type": "markdown",
      "source": [
        "# RegEx in Python"
      ],
      "metadata": {
        "nteract": {
          "transient": {
            "deleting": false
          }
        }
      }
    },
    {
      "cell_type": "markdown",
      "source": [
        "# `re.match`\r\n",
        "Si cero o más caracteres al principio de la *string* («cadena») coinciden con el *pattern* («patrón») de la **expresión regular**, retorna un objeto ***match*** correspondiente. Retorna `None` si la cadena no coincide con el patrón"
      ],
      "metadata": {
        "nteract": {
          "transient": {
            "deleting": false
          }
        }
      }
    },
    {
      "cell_type": "code",
      "source": [
        "import re\n",
        "msg = \"tiger is the national animal of mexico\"\n",
        "\n",
        "pattern = \"tiger\"\n",
        "\n",
        "mo = re.match(pattern, msg)\n",
        "print(mo)\n",
        "print(mo.group(0))\n"
      ],
      "outputs": [
        {
          "output_type": "stream",
          "name": "stdout",
          "text": [
            "<re.Match object; span=(0, 5), match='tiger'>\n",
            "tiger\n"
          ]
        }
      ],
      "execution_count": 33,
      "metadata": {
        "collapsed": true,
        "jupyter": {
          "source_hidden": false,
          "outputs_hidden": false
        },
        "nteract": {
          "transient": {
            "deleting": false
          }
        },
        "execution": {
          "iopub.status.busy": "2021-09-29T01:23:30.393Z",
          "iopub.execute_input": "2021-09-29T01:23:30.408Z",
          "iopub.status.idle": "2021-09-29T01:23:30.451Z",
          "shell.execute_reply": "2021-09-29T01:23:30.467Z"
        }
      }
    },
    {
      "cell_type": "markdown",
      "source": [
        "# `re.search()`\r\n",
        "Examina a través de la *string* («cadena») buscando el **primer lugar** donde el *pattern* («patrón») de la expresión regular produce una coincidencia, y retorna un objeto *match* correspondiente. Retorna `None` si ninguna posición en la cadena coincide con el patrón"
      ],
      "metadata": {
        "nteract": {
          "transient": {
            "deleting": false
          }
        }
      }
    },
    {
      "cell_type": "code",
      "source": [
        "msg_2 = \"¡hello! welcome to my home\"\r\n",
        "ptn_2 = 'to'\r\n",
        "\r\n",
        "mo = re.search(ptn_2, msg_2)\r\n",
        "\r\n",
        "print(mo)\r\n",
        "\r\n",
        "print(mo.group(0))"
      ],
      "outputs": [
        {
          "output_type": "stream",
          "name": "stdout",
          "text": [
            "<re.Match object; span=(16, 18), match='to'>\n",
            "to\n"
          ]
        }
      ],
      "execution_count": 24,
      "metadata": {
        "collapsed": true,
        "jupyter": {
          "source_hidden": false,
          "outputs_hidden": false
        },
        "nteract": {
          "transient": {
            "deleting": false
          }
        },
        "execution": {
          "iopub.status.busy": "2021-09-29T00:36:04.358Z",
          "iopub.execute_input": "2021-09-29T00:36:04.375Z",
          "iopub.status.idle": "2021-09-29T00:36:04.410Z",
          "shell.execute_reply": "2021-09-29T00:36:04.420Z"
        }
      }
    },
    {
      "cell_type": "markdown",
      "source": [
        "# `re.findall()`\r\n",
        "Retorna todos los **matches** del *pattern* en el *string* en una *lista* o *tupla*. Si no encuentra un *match*, devuelve una lista vacía."
      ],
      "metadata": {
        "nteract": {
          "transient": {
            "deleting": false
          }
        }
      }
    },
    {
      "cell_type": "code",
      "source": [
        "msg_3 = \"hello Luca, hello Gianluca\"\r\n",
        "ptn_3 = 'hello'\r\n",
        "ptn_4 = 'bye'\r\n",
        "\r\n",
        "mo  = re.findall(ptn_3, msg_3)\r\n",
        "print(mo)\r\n",
        "\r\n",
        "mo = re.findall(ptn_4, msg_3)\r\n",
        "print(mo)"
      ],
      "outputs": [
        {
          "output_type": "stream",
          "name": "stdout",
          "text": [
            "['hello', 'hello']\n",
            "[]\n"
          ]
        }
      ],
      "execution_count": 26,
      "metadata": {
        "collapsed": true,
        "jupyter": {
          "source_hidden": false,
          "outputs_hidden": false
        },
        "nteract": {
          "transient": {
            "deleting": false
          }
        },
        "execution": {
          "iopub.status.busy": "2021-09-29T00:47:13.574Z",
          "iopub.execute_input": "2021-09-29T00:47:13.581Z",
          "iopub.status.idle": "2021-09-29T00:47:13.597Z",
          "shell.execute_reply": "2021-09-29T00:47:13.607Z"
        }
      }
    },
    {
      "cell_type": "code",
      "source": [
        "mo =  re.finditer(ptn_3, msg_3)\r\n",
        "\r\n",
        "for m in mo:\r\n",
        "    print(f'Encontrado en {m.start()} - {m.end()}')"
      ],
      "outputs": [
        {
          "output_type": "stream",
          "name": "stdout",
          "text": [
            "Encontrado en 0 - 5\n",
            "Encontrado en 12 - 17\n"
          ]
        }
      ],
      "execution_count": 30,
      "metadata": {
        "collapsed": true,
        "jupyter": {
          "source_hidden": false,
          "outputs_hidden": false
        },
        "nteract": {
          "transient": {
            "deleting": false
          }
        },
        "execution": {
          "iopub.status.busy": "2021-09-29T01:11:56.252Z",
          "iopub.execute_input": "2021-09-29T01:11:56.264Z",
          "iopub.status.idle": "2021-09-29T01:11:56.301Z",
          "shell.execute_reply": "2021-09-29T01:11:56.312Z"
        }
      }
    },
    {
      "cell_type": "code",
      "source": [
        "string = \"Ron was born on 12-09-1999 and he was admitted to school on 15-12-2006\"\r\n",
        "pattern = '\\d{2}-\\d{2}-\\d{4}'\r\n",
        "\r\n",
        "mo = re.findall(pattern, string)\r\n",
        "\r\n",
        "print(mo)"
      ],
      "outputs": [
        {
          "output_type": "stream",
          "name": "stdout",
          "text": [
            "['12-09-1999', '15-12-2006']\n"
          ]
        }
      ],
      "execution_count": 31,
      "metadata": {
        "collapsed": true,
        "jupyter": {
          "source_hidden": false,
          "outputs_hidden": false
        },
        "nteract": {
          "transient": {
            "deleting": false
          }
        },
        "execution": {
          "iopub.status.busy": "2021-09-29T01:17:44.020Z",
          "iopub.execute_input": "2021-09-29T01:17:44.035Z",
          "iopub.status.idle": "2021-09-29T01:17:44.067Z",
          "shell.execute_reply": "2021-09-29T01:17:44.088Z"
        }
      }
    },
    {
      "cell_type": "code",
      "source": [
        "pattern = \"\\d{4}\"\r\n",
        "print(re.sub(pattern, \"1900\", string))"
      ],
      "outputs": [
        {
          "output_type": "stream",
          "name": "stdout",
          "text": [
            "Ron was born on 12-09-1900 and he was admitted to school on 15-12-1900\n"
          ]
        }
      ],
      "execution_count": 32,
      "metadata": {
        "collapsed": true,
        "jupyter": {
          "source_hidden": false,
          "outputs_hidden": false
        },
        "nteract": {
          "transient": {
            "deleting": false
          }
        },
        "execution": {
          "iopub.status.busy": "2021-09-29T01:19:23.478Z",
          "iopub.execute_input": "2021-09-29T01:19:23.517Z",
          "iopub.status.idle": "2021-09-29T01:19:23.554Z",
          "shell.execute_reply": "2021-09-29T01:19:23.565Z"
        }
      }
    }
  ],
  "metadata": {
    "kernel_info": {
      "name": "python3"
    },
    "language_info": {
      "name": "python",
      "version": "3.8.3",
      "mimetype": "text/x-python",
      "codemirror_mode": {
        "name": "ipython",
        "version": 3
      },
      "pygments_lexer": "ipython3",
      "nbconvert_exporter": "python",
      "file_extension": ".py"
    },
    "kernelspec": {
      "argv": [
        "python",
        "-m",
        "ipykernel_launcher",
        "-f",
        "{connection_file}"
      ],
      "display_name": "Python 3 (ipykernel)",
      "language": "python",
      "metadata": {
        "debugger": true
      },
      "name": "python3"
    },
    "nteract": {
      "version": "0.28.0"
    }
  },
  "nbformat": 4,
  "nbformat_minor": 0
}